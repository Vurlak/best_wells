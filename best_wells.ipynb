{
 "cells": [
  {
   "cell_type": "markdown",
   "metadata": {},
   "source": [
    "# Выбор локации для скважины"
   ]
  },
  {
   "cell_type": "markdown",
   "metadata": {},
   "source": [
    "Допустим, вы работаете в добывающей компании «ГлавРосГосНефть». Нужно решить, где бурить новую скважину.\n",
    "\n",
    "Вам предоставлены пробы нефти в трёх регионах: в каждом 10 000 месторождений, где измерили качество нефти и объём её запасов. Постройте модель машинного обучения, которая поможет определить регион, где добыча принесёт наибольшую прибыль. Проанализируйте возможную прибыль и риски техникой *Bootstrap.*\n",
    "\n",
    "Шаги для выбора локации:\n",
    "\n",
    "- В избранном регионе ищут месторождения, для каждого определяют значения признаков;\n",
    "- Строят модель и оценивают объём запасов;\n",
    "- Выбирают месторождения с самым высокими оценками значений. Количество месторождений зависит от бюджета компании и стоимости разработки одной скважины;\n",
    "- Прибыль равна суммарной прибыли отобранных месторождений."
   ]
  },
  {
   "cell_type": "markdown",
   "metadata": {},
   "source": [
    "## Загрузка и подготовка данных"
   ]
  },
  {
   "cell_type": "code",
   "execution_count": 1,
   "metadata": {},
   "outputs": [],
   "source": [
    "import pandas as pd\n",
    "import numpy as np\n",
    "from sklearn.linear_model import LinearRegression\n",
    "from sklearn.model_selection import train_test_split\n",
    "from sklearn.preprocessing import StandardScaler\n",
    "from sklearn.metrics import mean_absolute_error, mean_squared_error, r2_score"
   ]
  },
  {
   "cell_type": "markdown",
   "metadata": {},
   "source": [
    "Загрузим и посмотрим данные"
   ]
  },
  {
   "cell_type": "code",
   "execution_count": 2,
   "metadata": {},
   "outputs": [
    {
     "name": "stdout",
     "output_type": "stream",
     "text": [
      "<class 'pandas.core.frame.DataFrame'>\n",
      "RangeIndex: 100000 entries, 0 to 99999\n",
      "Data columns (total 5 columns):\n",
      " #   Column   Non-Null Count   Dtype  \n",
      "---  ------   --------------   -----  \n",
      " 0   id       100000 non-null  object \n",
      " 1   f0       100000 non-null  float64\n",
      " 2   f1       100000 non-null  float64\n",
      " 3   f2       100000 non-null  float64\n",
      " 4   product  100000 non-null  float64\n",
      "dtypes: float64(4), object(1)\n",
      "memory usage: 3.8+ MB\n"
     ]
    },
    {
     "data": {
      "text/html": [
       "<div>\n",
       "<style scoped>\n",
       "    .dataframe tbody tr th:only-of-type {\n",
       "        vertical-align: middle;\n",
       "    }\n",
       "\n",
       "    .dataframe tbody tr th {\n",
       "        vertical-align: top;\n",
       "    }\n",
       "\n",
       "    .dataframe thead th {\n",
       "        text-align: right;\n",
       "    }\n",
       "</style>\n",
       "<table border=\"1\" class=\"dataframe\">\n",
       "  <thead>\n",
       "    <tr style=\"text-align: right;\">\n",
       "      <th></th>\n",
       "      <th>id</th>\n",
       "      <th>f0</th>\n",
       "      <th>f1</th>\n",
       "      <th>f2</th>\n",
       "      <th>product</th>\n",
       "    </tr>\n",
       "  </thead>\n",
       "  <tbody>\n",
       "    <tr>\n",
       "      <th>0</th>\n",
       "      <td>txEyH</td>\n",
       "      <td>0.705745</td>\n",
       "      <td>-0.497823</td>\n",
       "      <td>1.221170</td>\n",
       "      <td>105.280062</td>\n",
       "    </tr>\n",
       "    <tr>\n",
       "      <th>1</th>\n",
       "      <td>2acmU</td>\n",
       "      <td>1.334711</td>\n",
       "      <td>-0.340164</td>\n",
       "      <td>4.365080</td>\n",
       "      <td>73.037750</td>\n",
       "    </tr>\n",
       "    <tr>\n",
       "      <th>2</th>\n",
       "      <td>409Wp</td>\n",
       "      <td>1.022732</td>\n",
       "      <td>0.151990</td>\n",
       "      <td>1.419926</td>\n",
       "      <td>85.265647</td>\n",
       "    </tr>\n",
       "    <tr>\n",
       "      <th>3</th>\n",
       "      <td>iJLyR</td>\n",
       "      <td>-0.032172</td>\n",
       "      <td>0.139033</td>\n",
       "      <td>2.978566</td>\n",
       "      <td>168.620776</td>\n",
       "    </tr>\n",
       "    <tr>\n",
       "      <th>4</th>\n",
       "      <td>Xdl7t</td>\n",
       "      <td>1.988431</td>\n",
       "      <td>0.155413</td>\n",
       "      <td>4.751769</td>\n",
       "      <td>154.036647</td>\n",
       "    </tr>\n",
       "  </tbody>\n",
       "</table>\n",
       "</div>"
      ],
      "text/plain": [
       "      id        f0        f1        f2     product\n",
       "0  txEyH  0.705745 -0.497823  1.221170  105.280062\n",
       "1  2acmU  1.334711 -0.340164  4.365080   73.037750\n",
       "2  409Wp  1.022732  0.151990  1.419926   85.265647\n",
       "3  iJLyR -0.032172  0.139033  2.978566  168.620776\n",
       "4  Xdl7t  1.988431  0.155413  4.751769  154.036647"
      ]
     },
     "execution_count": 2,
     "metadata": {},
     "output_type": "execute_result"
    }
   ],
   "source": [
    "gd0 = pd.read_csv('/datasets/geo_data_0.csv')\n",
    "\n",
    "gd0.info()\n",
    "gd0.head()"
   ]
  },
  {
   "cell_type": "code",
   "execution_count": 3,
   "metadata": {},
   "outputs": [
    {
     "name": "stdout",
     "output_type": "stream",
     "text": [
      "<class 'pandas.core.frame.DataFrame'>\n",
      "RangeIndex: 100000 entries, 0 to 99999\n",
      "Data columns (total 5 columns):\n",
      " #   Column   Non-Null Count   Dtype  \n",
      "---  ------   --------------   -----  \n",
      " 0   id       100000 non-null  object \n",
      " 1   f0       100000 non-null  float64\n",
      " 2   f1       100000 non-null  float64\n",
      " 3   f2       100000 non-null  float64\n",
      " 4   product  100000 non-null  float64\n",
      "dtypes: float64(4), object(1)\n",
      "memory usage: 3.8+ MB\n"
     ]
    },
    {
     "data": {
      "text/html": [
       "<div>\n",
       "<style scoped>\n",
       "    .dataframe tbody tr th:only-of-type {\n",
       "        vertical-align: middle;\n",
       "    }\n",
       "\n",
       "    .dataframe tbody tr th {\n",
       "        vertical-align: top;\n",
       "    }\n",
       "\n",
       "    .dataframe thead th {\n",
       "        text-align: right;\n",
       "    }\n",
       "</style>\n",
       "<table border=\"1\" class=\"dataframe\">\n",
       "  <thead>\n",
       "    <tr style=\"text-align: right;\">\n",
       "      <th></th>\n",
       "      <th>id</th>\n",
       "      <th>f0</th>\n",
       "      <th>f1</th>\n",
       "      <th>f2</th>\n",
       "      <th>product</th>\n",
       "    </tr>\n",
       "  </thead>\n",
       "  <tbody>\n",
       "    <tr>\n",
       "      <th>0</th>\n",
       "      <td>kBEdx</td>\n",
       "      <td>-15.001348</td>\n",
       "      <td>-8.276000</td>\n",
       "      <td>-0.005876</td>\n",
       "      <td>3.179103</td>\n",
       "    </tr>\n",
       "    <tr>\n",
       "      <th>1</th>\n",
       "      <td>62mP7</td>\n",
       "      <td>14.272088</td>\n",
       "      <td>-3.475083</td>\n",
       "      <td>0.999183</td>\n",
       "      <td>26.953261</td>\n",
       "    </tr>\n",
       "    <tr>\n",
       "      <th>2</th>\n",
       "      <td>vyE1P</td>\n",
       "      <td>6.263187</td>\n",
       "      <td>-5.948386</td>\n",
       "      <td>5.001160</td>\n",
       "      <td>134.766305</td>\n",
       "    </tr>\n",
       "    <tr>\n",
       "      <th>3</th>\n",
       "      <td>KcrkZ</td>\n",
       "      <td>-13.081196</td>\n",
       "      <td>-11.506057</td>\n",
       "      <td>4.999415</td>\n",
       "      <td>137.945408</td>\n",
       "    </tr>\n",
       "    <tr>\n",
       "      <th>4</th>\n",
       "      <td>AHL4O</td>\n",
       "      <td>12.702195</td>\n",
       "      <td>-8.147433</td>\n",
       "      <td>5.004363</td>\n",
       "      <td>134.766305</td>\n",
       "    </tr>\n",
       "  </tbody>\n",
       "</table>\n",
       "</div>"
      ],
      "text/plain": [
       "      id         f0         f1        f2     product\n",
       "0  kBEdx -15.001348  -8.276000 -0.005876    3.179103\n",
       "1  62mP7  14.272088  -3.475083  0.999183   26.953261\n",
       "2  vyE1P   6.263187  -5.948386  5.001160  134.766305\n",
       "3  KcrkZ -13.081196 -11.506057  4.999415  137.945408\n",
       "4  AHL4O  12.702195  -8.147433  5.004363  134.766305"
      ]
     },
     "execution_count": 3,
     "metadata": {},
     "output_type": "execute_result"
    }
   ],
   "source": [
    "gd1 = pd.read_csv('/datasets/geo_data_1.csv')\n",
    "\n",
    "gd1.info()\n",
    "gd1.head()"
   ]
  },
  {
   "cell_type": "code",
   "execution_count": 4,
   "metadata": {},
   "outputs": [
    {
     "name": "stdout",
     "output_type": "stream",
     "text": [
      "<class 'pandas.core.frame.DataFrame'>\n",
      "RangeIndex: 100000 entries, 0 to 99999\n",
      "Data columns (total 5 columns):\n",
      " #   Column   Non-Null Count   Dtype  \n",
      "---  ------   --------------   -----  \n",
      " 0   id       100000 non-null  object \n",
      " 1   f0       100000 non-null  float64\n",
      " 2   f1       100000 non-null  float64\n",
      " 3   f2       100000 non-null  float64\n",
      " 4   product  100000 non-null  float64\n",
      "dtypes: float64(4), object(1)\n",
      "memory usage: 3.8+ MB\n"
     ]
    },
    {
     "data": {
      "text/html": [
       "<div>\n",
       "<style scoped>\n",
       "    .dataframe tbody tr th:only-of-type {\n",
       "        vertical-align: middle;\n",
       "    }\n",
       "\n",
       "    .dataframe tbody tr th {\n",
       "        vertical-align: top;\n",
       "    }\n",
       "\n",
       "    .dataframe thead th {\n",
       "        text-align: right;\n",
       "    }\n",
       "</style>\n",
       "<table border=\"1\" class=\"dataframe\">\n",
       "  <thead>\n",
       "    <tr style=\"text-align: right;\">\n",
       "      <th></th>\n",
       "      <th>id</th>\n",
       "      <th>f0</th>\n",
       "      <th>f1</th>\n",
       "      <th>f2</th>\n",
       "      <th>product</th>\n",
       "    </tr>\n",
       "  </thead>\n",
       "  <tbody>\n",
       "    <tr>\n",
       "      <th>0</th>\n",
       "      <td>fwXo0</td>\n",
       "      <td>-1.146987</td>\n",
       "      <td>0.963328</td>\n",
       "      <td>-0.828965</td>\n",
       "      <td>27.758673</td>\n",
       "    </tr>\n",
       "    <tr>\n",
       "      <th>1</th>\n",
       "      <td>WJtFt</td>\n",
       "      <td>0.262778</td>\n",
       "      <td>0.269839</td>\n",
       "      <td>-2.530187</td>\n",
       "      <td>56.069697</td>\n",
       "    </tr>\n",
       "    <tr>\n",
       "      <th>2</th>\n",
       "      <td>ovLUW</td>\n",
       "      <td>0.194587</td>\n",
       "      <td>0.289035</td>\n",
       "      <td>-5.586433</td>\n",
       "      <td>62.871910</td>\n",
       "    </tr>\n",
       "    <tr>\n",
       "      <th>3</th>\n",
       "      <td>q6cA6</td>\n",
       "      <td>2.236060</td>\n",
       "      <td>-0.553760</td>\n",
       "      <td>0.930038</td>\n",
       "      <td>114.572842</td>\n",
       "    </tr>\n",
       "    <tr>\n",
       "      <th>4</th>\n",
       "      <td>WPMUX</td>\n",
       "      <td>-0.515993</td>\n",
       "      <td>1.716266</td>\n",
       "      <td>5.899011</td>\n",
       "      <td>149.600746</td>\n",
       "    </tr>\n",
       "  </tbody>\n",
       "</table>\n",
       "</div>"
      ],
      "text/plain": [
       "      id        f0        f1        f2     product\n",
       "0  fwXo0 -1.146987  0.963328 -0.828965   27.758673\n",
       "1  WJtFt  0.262778  0.269839 -2.530187   56.069697\n",
       "2  ovLUW  0.194587  0.289035 -5.586433   62.871910\n",
       "3  q6cA6  2.236060 -0.553760  0.930038  114.572842\n",
       "4  WPMUX -0.515993  1.716266  5.899011  149.600746"
      ]
     },
     "execution_count": 4,
     "metadata": {},
     "output_type": "execute_result"
    }
   ],
   "source": [
    "gd2 = pd.read_csv('/datasets/geo_data_2.csv')\n",
    "\n",
    "gd2.info()\n",
    "gd2.head()"
   ]
  },
  {
   "cell_type": "markdown",
   "metadata": {},
   "source": [
    "## Обучение и проверка модели"
   ]
  },
  {
   "cell_type": "markdown",
   "metadata": {},
   "source": [
    "Создадим функцию для обучения модели, используя scaler transform для уравновешивания переменных"
   ]
  },
  {
   "cell_type": "code",
   "execution_count": 5,
   "metadata": {},
   "outputs": [],
   "source": [
    "def model_lin(data, name):\n",
    "    \n",
    "    features = data.drop(['id','product'], axis=1)\n",
    "    target = data['product']\n",
    "    \n",
    "    features_train, features_valid, target_train, target_valid = train_test_split(features, target, test_size=0.25, random_state=12345)\n",
    "    features_train, features_test, target_train, target_test = train_test_split(features_train, target_train, test_size=0.20, random_state=12345)\n",
    "    scaler = StandardScaler()\n",
    "    numeric = features.columns\n",
    "    scaler.fit(features_train)\n",
    "    features_train[numeric] = scaler.transform(features_train[numeric])\n",
    "    features_valid[numeric] = scaler.transform(features_valid[numeric])\n",
    "    \n",
    "    model = LinearRegression()\n",
    "    model.fit(features_train, target_train)\n",
    "    predictions_valid = model.predict(features_valid)\n",
    "    predictions_valid = pd.Series(predictions_valid, index = target_valid.index)\n",
    "    \n",
    "    print(name)\n",
    "    print('MAE:', mean_absolute_error(target_valid, predictions_valid))\n",
    "    print('MSE:', mean_squared_error(target_valid, predictions_valid))\n",
    "    print('R2:', r2_score(target_valid, predictions_valid))\n",
    "    print('RMSE', mean_squared_error(target_valid, predictions_valid) ** 0.5)\n",
    "    print('Mean predict:', predictions_valid.mean())\n",
    "    \n",
    "    return target_valid, predictions_valid, features_test, target_test"
   ]
  },
  {
   "cell_type": "markdown",
   "metadata": {},
   "source": [
    "Сравним результаты между тремя локациями"
   ]
  },
  {
   "cell_type": "code",
   "execution_count": 6,
   "metadata": {},
   "outputs": [
    {
     "name": "stdout",
     "output_type": "stream",
     "text": [
      "Зона 0\n",
      "MAE: 30.920634271085937\n",
      "MSE: 1412.197321438156\n",
      "R2: 0.27995117699602534\n",
      "RMSE 37.57921395450091\n",
      "Mean predict: 92.60257696973629\n"
     ]
    },
    {
     "name": "stderr",
     "output_type": "stream",
     "text": [
      "/tmp/ipykernel_48/1121778781.py:12: SettingWithCopyWarning: \n",
      "A value is trying to be set on a copy of a slice from a DataFrame.\n",
      "Try using .loc[row_indexer,col_indexer] = value instead\n",
      "\n",
      "See the caveats in the documentation: https://pandas.pydata.org/pandas-docs/stable/user_guide/indexing.html#returning-a-view-versus-a-copy\n",
      "  features_valid[numeric] = scaler.transform(features_valid[numeric])\n",
      "/opt/conda/lib/python3.9/site-packages/pandas/core/indexing.py:1637: SettingWithCopyWarning: \n",
      "A value is trying to be set on a copy of a slice from a DataFrame\n",
      "\n",
      "See the caveats in the documentation: https://pandas.pydata.org/pandas-docs/stable/user_guide/indexing.html#returning-a-view-versus-a-copy\n",
      "  self._setitem_single_block(indexer, value, name)\n",
      "/opt/conda/lib/python3.9/site-packages/pandas/core/indexing.py:692: SettingWithCopyWarning: \n",
      "A value is trying to be set on a copy of a slice from a DataFrame\n",
      "\n",
      "See the caveats in the documentation: https://pandas.pydata.org/pandas-docs/stable/user_guide/indexing.html#returning-a-view-versus-a-copy\n",
      "  iloc._setitem_with_indexer(indexer, value, self.name)\n"
     ]
    }
   ],
   "source": [
    "target_valid0, predictions_valid0, features_test0, target_test0 = model_lin(gd0, 'Зона 0')"
   ]
  },
  {
   "cell_type": "code",
   "execution_count": 7,
   "metadata": {},
   "outputs": [
    {
     "name": "stderr",
     "output_type": "stream",
     "text": [
      "/tmp/ipykernel_48/1121778781.py:12: SettingWithCopyWarning: \n",
      "A value is trying to be set on a copy of a slice from a DataFrame.\n",
      "Try using .loc[row_indexer,col_indexer] = value instead\n",
      "\n",
      "See the caveats in the documentation: https://pandas.pydata.org/pandas-docs/stable/user_guide/indexing.html#returning-a-view-versus-a-copy\n",
      "  features_valid[numeric] = scaler.transform(features_valid[numeric])\n",
      "/opt/conda/lib/python3.9/site-packages/pandas/core/indexing.py:1637: SettingWithCopyWarning: \n",
      "A value is trying to be set on a copy of a slice from a DataFrame\n",
      "\n",
      "See the caveats in the documentation: https://pandas.pydata.org/pandas-docs/stable/user_guide/indexing.html#returning-a-view-versus-a-copy\n",
      "  self._setitem_single_block(indexer, value, name)\n",
      "/opt/conda/lib/python3.9/site-packages/pandas/core/indexing.py:692: SettingWithCopyWarning: \n",
      "A value is trying to be set on a copy of a slice from a DataFrame\n",
      "\n",
      "See the caveats in the documentation: https://pandas.pydata.org/pandas-docs/stable/user_guide/indexing.html#returning-a-view-versus-a-copy\n",
      "  iloc._setitem_with_indexer(indexer, value, self.name)\n"
     ]
    },
    {
     "name": "stdout",
     "output_type": "stream",
     "text": [
      "Зона 1\n",
      "MAE: 0.7188864626797543\n",
      "MSE: 0.7976884434903839\n",
      "R2: 0.9996233685562581\n",
      "RMSE 0.8931340568416277\n",
      "Mean predict: 68.7290942602421\n"
     ]
    }
   ],
   "source": [
    "target_valid1, predictions_valid1, features_test1, target_test1 = model_lin(gd1, 'Зона 1')"
   ]
  },
  {
   "cell_type": "code",
   "execution_count": 8,
   "metadata": {},
   "outputs": [
    {
     "name": "stderr",
     "output_type": "stream",
     "text": [
      "/tmp/ipykernel_48/1121778781.py:12: SettingWithCopyWarning: \n",
      "A value is trying to be set on a copy of a slice from a DataFrame.\n",
      "Try using .loc[row_indexer,col_indexer] = value instead\n",
      "\n",
      "See the caveats in the documentation: https://pandas.pydata.org/pandas-docs/stable/user_guide/indexing.html#returning-a-view-versus-a-copy\n",
      "  features_valid[numeric] = scaler.transform(features_valid[numeric])\n",
      "/opt/conda/lib/python3.9/site-packages/pandas/core/indexing.py:1637: SettingWithCopyWarning: \n",
      "A value is trying to be set on a copy of a slice from a DataFrame\n",
      "\n",
      "See the caveats in the documentation: https://pandas.pydata.org/pandas-docs/stable/user_guide/indexing.html#returning-a-view-versus-a-copy\n",
      "  self._setitem_single_block(indexer, value, name)\n",
      "/opt/conda/lib/python3.9/site-packages/pandas/core/indexing.py:692: SettingWithCopyWarning: \n",
      "A value is trying to be set on a copy of a slice from a DataFrame\n",
      "\n",
      "See the caveats in the documentation: https://pandas.pydata.org/pandas-docs/stable/user_guide/indexing.html#returning-a-view-versus-a-copy\n",
      "  iloc._setitem_with_indexer(indexer, value, self.name)\n"
     ]
    },
    {
     "name": "stdout",
     "output_type": "stream",
     "text": [
      "Зона 2\n",
      "MAE: 32.79473884393918\n",
      "MSE: 1602.4103574911571\n",
      "R2: 0.2052313274308052\n",
      "RMSE 40.03011812986763\n",
      "Mean predict: 94.9577013294152\n"
     ]
    }
   ],
   "source": [
    "target_valid2, predictions_valid2, features_test2, target_test2 = model_lin(gd2, 'Зона 2')"
   ]
  },
  {
   "cell_type": "markdown",
   "metadata": {},
   "source": [
    "## Подготовка к расчёту прибыли"
   ]
  },
  {
   "cell_type": "markdown",
   "metadata": {},
   "source": [
    "3.1 Ключевые значения"
   ]
  },
  {
   "cell_type": "code",
   "execution_count": 9,
   "metadata": {},
   "outputs": [],
   "source": [
    "NUMBER_OF_WELLS = 500\n",
    "BEST_WELLS = 200\n",
    "BUDGET = 10 ** 10\n",
    "INCOME_PER_UNIT = 450*10**3\n",
    "MAX_PROB_LOSS = 2.5 #%"
   ]
  },
  {
   "cell_type": "markdown",
   "metadata": {},
   "source": [
    "3.2 Рассчитаем минимальный объем скважины"
   ]
  },
  {
   "cell_type": "code",
   "execution_count": 10,
   "metadata": {},
   "outputs": [
    {
     "name": "stdout",
     "output_type": "stream",
     "text": [
      "Минимальный объем скважины 111.11\n"
     ]
    }
   ],
   "source": [
    "min_prod = (BUDGET / INCOME_PER_UNIT) / 200\n",
    "print(f\"Минимальный объем скважины {min_prod:.2f}\")"
   ]
  },
  {
   "cell_type": "markdown",
   "metadata": {},
   "source": [
    "Минимальный объем меньше чем средний объем скважин"
   ]
  },
  {
   "cell_type": "code",
   "execution_count": 11,
   "metadata": {},
   "outputs": [],
   "source": [
    "predicted_0 = pd.Series(predictions_valid0, index = target_valid0.index)\n",
    "predicted_1 = pd.Series(predictions_valid1, index = target_valid1.index)\n",
    "predicted_2 = pd.Series(predictions_valid2, index = target_valid2.index)"
   ]
  },
  {
   "cell_type": "code",
   "execution_count": 70,
   "metadata": {},
   "outputs": [],
   "source": [
    "def profits(target, predict):\n",
    "    sort_predict = predict.sort_values(ascending=False)\n",
    "    select_target = target[sort_predict.index][:BEST_WELLS]\n",
    "    income = (select_target.sum() * INCOME_PER_UNIT - BUDGET)\n",
    "    #print(len(sort_predict))\n",
    "    #print(len(top_200))\n",
    "    #print(len(select_target))\n",
    "    return income"
   ]
  },
  {
   "cell_type": "markdown",
   "metadata": {},
   "source": [
    "## Расчёт прибыли и рисков "
   ]
  },
  {
   "cell_type": "markdown",
   "metadata": {},
   "source": [
    "4.1 выбираем скважины с максимальными значениями"
   ]
  },
  {
   "cell_type": "code",
   "execution_count": 71,
   "metadata": {},
   "outputs": [
    {
     "name": "stdout",
     "output_type": "stream",
     "text": [
      "Прибыль с лучших скважин в 0 регионе: 3320826043.14 рублей\n",
      "Прибыль с лучших скважин в 1 регионе: 2415086696.68 рублей\n",
      "Прибыль с лучших скважин в 2 регионе: 2710349963.60 рублей\n"
     ]
    }
   ],
   "source": [
    "print(f'Прибыль с лучших скважин в 0 регионе: {profits(target_valid0, predicted_0):.2f} рублей')\n",
    "print(f'Прибыль с лучших скважин в 1 регионе: {profits(target_valid1, predicted_1):.2f} рублей')\n",
    "print(f'Прибыль с лучших скважин в 2 регионе: {profits(target_valid2, predicted_2):.2f} рублей')\n"
   ]
  },
  {
   "cell_type": "code",
   "execution_count": null,
   "metadata": {},
   "outputs": [],
   "source": []
  },
  {
   "cell_type": "markdown",
   "metadata": {},
   "source": [
    "Выполним процедуру boostrap"
   ]
  },
  {
   "cell_type": "code",
   "execution_count": 72,
   "metadata": {},
   "outputs": [],
   "source": [
    "state = np.random.RandomState(12345)\n",
    "\n",
    "def boostrape(target, predict, name='нет данных', count=500):\n",
    "    profit_list = []\n",
    "    \n",
    "    for i in range(1000):\n",
    "        predict_sample = predict.sample(count, replace=True, random_state = state)\n",
    "        target_sample = target[predict_sample.index]\n",
    "        profit_list.append(profits(target_sample, predict_sample))\n",
    "    profit_list = pd.Series(profit_list)\n",
    "    \n",
    "    mean_profit = profit_list.mean()\n",
    "    loss = (profit_list < 0).mean()\n",
    "    \n",
    "    lower = profit_list.quantile(0.025)\n",
    "    higher = profit_list.quantile(0.975)\n",
    "    \n",
    "    print(f'Средняя прибыль для {name}: {mean_profit:.2f}')\n",
    "    print(f'Доверительный интервал 95% для {name}: {int(lower)} - {int(higher)}')\n",
    "    print(f'Вероятность убытка для {name}: {loss}')\n",
    "    "
   ]
  },
  {
   "cell_type": "code",
   "execution_count": 76,
   "metadata": {},
   "outputs": [
    {
     "name": "stdout",
     "output_type": "stream",
     "text": [
      "Средняя прибыль для Регион 0: 425186782.10\n",
      "Доверительный интервал 95% для Регион 0: -102857913 - 976556627\n",
      "Вероятность убытка для Регион 0: 0.052\n",
      "None\n"
     ]
    }
   ],
   "source": [
    "print(boostrape(target_valid0, predicted_0, 'Регион 0'))"
   ]
  },
  {
   "cell_type": "code",
   "execution_count": 77,
   "metadata": {},
   "outputs": [
    {
     "name": "stdout",
     "output_type": "stream",
     "text": [
      "Средняя прибыль для Регион 1: 504737996.37\n",
      "Доверительный интервал 95% для Регион 1: 77394602 - 932883332\n",
      "Вероятность убытка для Регион 1: 0.009\n",
      "None\n"
     ]
    }
   ],
   "source": [
    "print(boostrape(target_valid1, predicted_1, 'Регион 1'))"
   ]
  },
  {
   "cell_type": "code",
   "execution_count": 78,
   "metadata": {},
   "outputs": [
    {
     "name": "stdout",
     "output_type": "stream",
     "text": [
      "Средняя прибыль для Регион 2: 410052078.35\n",
      "Доверительный интервал 95% для Регион 2: -195356879 - 961291553\n",
      "Вероятность убытка для Регион 2: 0.091\n",
      "None\n"
     ]
    }
   ],
   "source": [
    "print(boostrape(target_valid2, predicted_2, 'Регион 2'))"
   ]
  },
  {
   "cell_type": "markdown",
   "metadata": {},
   "source": [
    "Вывод, лучший регион для расположения наших скважин, это первый регион, у него средняя прибыль больше чем у других регионов, а также уровен риска минимальный. Этот регион лучше остальный подойдет под размещение скважин"
   ]
  },
  {
   "cell_type": "code",
   "execution_count": null,
   "metadata": {},
   "outputs": [],
   "source": []
  }
 ],
 "metadata": {
  "ExecuteTimeLog": [
   {
    "duration": 464,
    "start_time": "2023-04-20T16:03:07.020Z"
   },
   {
    "duration": 944,
    "start_time": "2023-04-20T16:03:07.486Z"
   },
   {
    "duration": 409,
    "start_time": "2023-04-20T16:03:18.756Z"
   },
   {
    "duration": 188,
    "start_time": "2023-04-20T16:03:56.441Z"
   },
   {
    "duration": 167,
    "start_time": "2023-04-20T16:04:07.994Z"
   },
   {
    "duration": 167,
    "start_time": "2023-04-20T16:04:25.023Z"
   },
   {
    "duration": 153,
    "start_time": "2023-04-20T16:04:25.436Z"
   },
   {
    "duration": 98,
    "start_time": "2023-04-21T13:06:22.573Z"
   },
   {
    "duration": 79,
    "start_time": "2023-04-21T13:08:41.125Z"
   },
   {
    "duration": 434,
    "start_time": "2023-04-21T13:08:45.102Z"
   },
   {
    "duration": 920,
    "start_time": "2023-04-21T13:08:45.538Z"
   },
   {
    "duration": 1139,
    "start_time": "2023-04-21T13:08:50.791Z"
   },
   {
    "duration": 646,
    "start_time": "2023-04-21T13:08:51.933Z"
   },
   {
    "duration": 165,
    "start_time": "2023-04-21T13:09:21.360Z"
   },
   {
    "duration": 165,
    "start_time": "2023-04-21T13:09:24.262Z"
   },
   {
    "duration": 147,
    "start_time": "2023-04-21T13:09:24.429Z"
   },
   {
    "duration": 44,
    "start_time": "2023-04-22T11:02:58.971Z"
   },
   {
    "duration": 1034,
    "start_time": "2023-04-22T11:03:03.809Z"
   },
   {
    "duration": 553,
    "start_time": "2023-04-22T11:03:04.846Z"
   },
   {
    "duration": 674,
    "start_time": "2023-04-22T11:03:05.401Z"
   },
   {
    "duration": 620,
    "start_time": "2023-04-22T11:03:06.078Z"
   },
   {
    "duration": 80,
    "start_time": "2023-04-22T11:03:06.700Z"
   },
   {
    "duration": 38,
    "start_time": "2023-04-22T11:03:15.451Z"
   },
   {
    "duration": 24,
    "start_time": "2023-04-22T11:03:22.727Z"
   },
   {
    "duration": 24,
    "start_time": "2023-04-22T11:06:25.565Z"
   },
   {
    "duration": 24,
    "start_time": "2023-04-22T11:06:30.706Z"
   },
   {
    "duration": 21,
    "start_time": "2023-04-22T11:06:33.701Z"
   },
   {
    "duration": 21,
    "start_time": "2023-04-22T11:07:52.421Z"
   },
   {
    "duration": 84,
    "start_time": "2023-04-22T11:07:52.581Z"
   },
   {
    "duration": 1010,
    "start_time": "2023-04-22T11:08:17.627Z"
   },
   {
    "duration": 155,
    "start_time": "2023-04-22T11:08:18.639Z"
   },
   {
    "duration": 133,
    "start_time": "2023-04-22T11:08:18.796Z"
   },
   {
    "duration": 154,
    "start_time": "2023-04-22T11:08:18.931Z"
   },
   {
    "duration": 28,
    "start_time": "2023-04-22T11:08:19.086Z"
   },
   {
    "duration": 163,
    "start_time": "2023-04-22T11:08:19.116Z"
   },
   {
    "duration": 183,
    "start_time": "2023-04-22T11:08:19.281Z"
   },
   {
    "duration": 105,
    "start_time": "2023-04-22T11:13:51.947Z"
   },
   {
    "duration": 1976,
    "start_time": "2023-04-22T11:14:00.481Z"
   },
   {
    "duration": 73,
    "start_time": "2023-04-22T11:14:39.444Z"
   },
   {
    "duration": 76,
    "start_time": "2023-04-22T11:14:51.644Z"
   },
   {
    "duration": 11,
    "start_time": "2023-04-22T11:15:14.590Z"
   },
   {
    "duration": 9,
    "start_time": "2023-04-22T11:16:39.222Z"
   },
   {
    "duration": 76,
    "start_time": "2023-04-22T11:16:50.896Z"
   },
   {
    "duration": 80,
    "start_time": "2023-04-22T11:16:57.605Z"
   },
   {
    "duration": 3,
    "start_time": "2023-04-22T11:16:59.933Z"
   },
   {
    "duration": 88,
    "start_time": "2023-04-22T11:17:03.851Z"
   },
   {
    "duration": 11,
    "start_time": "2023-04-22T11:17:04.006Z"
   },
   {
    "duration": 3,
    "start_time": "2023-04-22T11:17:22.952Z"
   },
   {
    "duration": 153,
    "start_time": "2023-04-22T11:17:23.183Z"
   },
   {
    "duration": 143,
    "start_time": "2023-04-22T11:17:23.338Z"
   },
   {
    "duration": 137,
    "start_time": "2023-04-22T11:17:23.483Z"
   },
   {
    "duration": 27,
    "start_time": "2023-04-22T11:17:23.673Z"
   },
   {
    "duration": 27,
    "start_time": "2023-04-22T11:17:23.857Z"
   },
   {
    "duration": 28,
    "start_time": "2023-04-22T11:17:24.277Z"
   },
   {
    "duration": 69,
    "start_time": "2023-04-22T11:17:25.491Z"
   },
   {
    "duration": 26,
    "start_time": "2023-04-22T11:17:27.571Z"
   },
   {
    "duration": 24,
    "start_time": "2023-04-22T11:18:15.308Z"
   },
   {
    "duration": 4,
    "start_time": "2023-04-22T11:36:37.170Z"
   },
   {
    "duration": 4,
    "start_time": "2023-04-22T11:39:19.049Z"
   },
   {
    "duration": 4,
    "start_time": "2023-04-22T11:41:32.109Z"
   },
   {
    "duration": 5,
    "start_time": "2023-04-22T11:43:14.362Z"
   },
   {
    "duration": 9,
    "start_time": "2023-04-22T11:44:23.843Z"
   },
   {
    "duration": 3,
    "start_time": "2023-04-22T11:44:33.217Z"
   },
   {
    "duration": 142,
    "start_time": "2023-04-22T11:44:33.326Z"
   },
   {
    "duration": 125,
    "start_time": "2023-04-22T11:44:33.472Z"
   },
   {
    "duration": 128,
    "start_time": "2023-04-22T11:44:33.599Z"
   },
   {
    "duration": 5,
    "start_time": "2023-04-22T11:44:33.812Z"
   },
   {
    "duration": 9,
    "start_time": "2023-04-22T11:44:34.605Z"
   },
   {
    "duration": 23,
    "start_time": "2023-04-22T11:44:53.763Z"
   },
   {
    "duration": 3,
    "start_time": "2023-04-22T11:45:50.360Z"
   },
   {
    "duration": 175,
    "start_time": "2023-04-22T11:45:50.509Z"
   },
   {
    "duration": 152,
    "start_time": "2023-04-22T11:45:50.686Z"
   },
   {
    "duration": 150,
    "start_time": "2023-04-22T11:45:50.840Z"
   },
   {
    "duration": 6,
    "start_time": "2023-04-22T11:45:51.001Z"
   },
   {
    "duration": 38,
    "start_time": "2023-04-22T11:45:51.683Z"
   },
   {
    "duration": 6,
    "start_time": "2023-04-22T11:46:13.954Z"
   },
   {
    "duration": 35,
    "start_time": "2023-04-22T11:46:21.880Z"
   },
   {
    "duration": 6,
    "start_time": "2023-04-22T11:47:16.159Z"
   },
   {
    "duration": 172,
    "start_time": "2023-04-22T11:47:16.687Z"
   },
   {
    "duration": 228,
    "start_time": "2023-04-22T11:47:34.033Z"
   },
   {
    "duration": 37,
    "start_time": "2023-04-22T11:48:43.840Z"
   },
   {
    "duration": 89,
    "start_time": "2023-04-22T11:48:46.269Z"
   },
   {
    "duration": 42,
    "start_time": "2023-04-22T11:49:15.233Z"
   },
   {
    "duration": 199,
    "start_time": "2023-04-22T11:49:15.358Z"
   },
   {
    "duration": 153,
    "start_time": "2023-04-22T11:50:39.507Z"
   },
   {
    "duration": 121,
    "start_time": "2023-04-22T11:50:58.739Z"
   },
   {
    "duration": 65,
    "start_time": "2023-04-22T11:51:23.494Z"
   },
   {
    "duration": 111,
    "start_time": "2023-04-22T11:59:53.860Z"
   },
   {
    "duration": 219,
    "start_time": "2023-04-22T12:00:13.139Z"
   },
   {
    "duration": 71,
    "start_time": "2023-04-22T12:00:15.993Z"
   },
   {
    "duration": 3,
    "start_time": "2023-04-22T12:00:42.585Z"
   },
   {
    "duration": 145,
    "start_time": "2023-04-22T12:00:42.741Z"
   },
   {
    "duration": 132,
    "start_time": "2023-04-22T12:00:42.890Z"
   },
   {
    "duration": 132,
    "start_time": "2023-04-22T12:00:43.024Z"
   },
   {
    "duration": 8,
    "start_time": "2023-04-22T15:17:08.685Z"
   },
   {
    "duration": 3,
    "start_time": "2023-04-22T15:17:12.153Z"
   },
   {
    "duration": 9,
    "start_time": "2023-04-22T15:17:12.265Z"
   },
   {
    "duration": 3,
    "start_time": "2023-04-22T15:17:19.090Z"
   },
   {
    "duration": 3,
    "start_time": "2023-04-22T15:17:27.272Z"
   },
   {
    "duration": 4,
    "start_time": "2023-04-22T15:17:33.880Z"
   },
   {
    "duration": 69,
    "start_time": "2023-04-22T15:18:03.537Z"
   },
   {
    "duration": 73,
    "start_time": "2023-04-22T15:18:09.381Z"
   },
   {
    "duration": 10,
    "start_time": "2023-04-22T15:18:49.420Z"
   },
   {
    "duration": 3,
    "start_time": "2023-04-22T15:18:55.763Z"
   },
   {
    "duration": 3,
    "start_time": "2023-04-22T15:19:21.976Z"
   },
   {
    "duration": 5,
    "start_time": "2023-04-22T15:20:07.067Z"
   },
   {
    "duration": 69,
    "start_time": "2023-04-22T15:20:39.305Z"
   },
   {
    "duration": 3,
    "start_time": "2023-04-22T15:20:39.456Z"
   },
   {
    "duration": 73,
    "start_time": "2023-04-22T15:21:01.599Z"
   },
   {
    "duration": 3,
    "start_time": "2023-04-22T15:22:05.164Z"
   },
   {
    "duration": 3,
    "start_time": "2023-04-22T15:22:16.229Z"
   },
   {
    "duration": 3,
    "start_time": "2023-04-22T15:22:16.530Z"
   },
   {
    "duration": 4,
    "start_time": "2023-04-22T15:22:17.516Z"
   },
   {
    "duration": 3,
    "start_time": "2023-04-22T15:23:19.404Z"
   },
   {
    "duration": 8,
    "start_time": "2023-04-24T05:27:27.289Z"
   },
   {
    "duration": 6,
    "start_time": "2023-04-24T05:27:28.076Z"
   },
   {
    "duration": 56,
    "start_time": "2023-04-24T05:28:35.879Z"
   },
   {
    "duration": 96,
    "start_time": "2023-04-24T05:31:50.979Z"
   },
   {
    "duration": 46,
    "start_time": "2023-04-24T05:40:35.903Z"
   },
   {
    "duration": 1102,
    "start_time": "2023-04-24T05:40:44.615Z"
   },
   {
    "duration": 541,
    "start_time": "2023-04-24T05:40:45.719Z"
   },
   {
    "duration": 237,
    "start_time": "2023-04-24T05:40:46.262Z"
   },
   {
    "duration": 235,
    "start_time": "2023-04-24T05:40:46.502Z"
   },
   {
    "duration": 6,
    "start_time": "2023-04-24T05:40:46.740Z"
   },
   {
    "duration": 66,
    "start_time": "2023-04-24T05:40:46.749Z"
   },
   {
    "duration": 197,
    "start_time": "2023-04-24T05:40:46.890Z"
   },
   {
    "duration": 199,
    "start_time": "2023-04-24T05:40:47.090Z"
   },
   {
    "duration": 5,
    "start_time": "2023-04-24T05:40:47.291Z"
   },
   {
    "duration": 12,
    "start_time": "2023-04-24T05:40:47.386Z"
   },
   {
    "duration": 10,
    "start_time": "2023-04-24T05:40:47.399Z"
   },
   {
    "duration": 7,
    "start_time": "2023-04-24T05:40:47.411Z"
   },
   {
    "duration": 3,
    "start_time": "2023-04-24T05:43:53.655Z"
   },
   {
    "duration": 127,
    "start_time": "2023-04-24T05:44:30.889Z"
   },
   {
    "duration": 35,
    "start_time": "2023-04-24T05:44:55.607Z"
   },
   {
    "duration": 10,
    "start_time": "2023-04-24T05:45:17.983Z"
   },
   {
    "duration": 4,
    "start_time": "2023-04-24T05:45:48.073Z"
   },
   {
    "duration": 9,
    "start_time": "2023-04-24T05:45:54.232Z"
   },
   {
    "duration": 11,
    "start_time": "2023-04-24T05:46:13.531Z"
   },
   {
    "duration": 12,
    "start_time": "2023-04-24T05:46:21.365Z"
   },
   {
    "duration": 21,
    "start_time": "2023-04-24T05:47:05.894Z"
   },
   {
    "duration": 12,
    "start_time": "2023-04-24T05:47:11.695Z"
   },
   {
    "duration": 17,
    "start_time": "2023-04-24T05:48:41.375Z"
   },
   {
    "duration": 10,
    "start_time": "2023-04-24T05:48:52.115Z"
   },
   {
    "duration": 14,
    "start_time": "2023-04-24T05:50:41.460Z"
   },
   {
    "duration": 15,
    "start_time": "2023-04-24T05:50:45.683Z"
   },
   {
    "duration": 13,
    "start_time": "2023-04-24T05:50:54.677Z"
   },
   {
    "duration": 14,
    "start_time": "2023-04-24T05:51:51.462Z"
   },
   {
    "duration": 9,
    "start_time": "2023-04-24T05:52:01.635Z"
   },
   {
    "duration": 3,
    "start_time": "2023-04-24T05:52:12.962Z"
   },
   {
    "duration": 7,
    "start_time": "2023-04-24T05:52:13.111Z"
   },
   {
    "duration": 13,
    "start_time": "2023-04-24T05:52:57.073Z"
   },
   {
    "duration": 24,
    "start_time": "2023-04-24T05:53:25.411Z"
   },
   {
    "duration": 14,
    "start_time": "2023-04-24T05:53:51.962Z"
   },
   {
    "duration": 56,
    "start_time": "2023-04-24T05:55:35.296Z"
   },
   {
    "duration": 4,
    "start_time": "2023-04-24T05:55:39.870Z"
   },
   {
    "duration": 20,
    "start_time": "2023-04-24T05:55:40.012Z"
   },
   {
    "duration": 4,
    "start_time": "2023-04-24T05:55:52.620Z"
   },
   {
    "duration": 21,
    "start_time": "2023-04-24T05:55:52.767Z"
   },
   {
    "duration": 9,
    "start_time": "2023-04-24T05:56:53.154Z"
   },
   {
    "duration": 10,
    "start_time": "2023-04-24T05:58:15.535Z"
   },
   {
    "duration": 4,
    "start_time": "2023-04-24T06:00:14.708Z"
   },
   {
    "duration": 14,
    "start_time": "2023-04-24T06:00:14.895Z"
   },
   {
    "duration": 3,
    "start_time": "2023-04-24T06:14:15.827Z"
   },
   {
    "duration": 68,
    "start_time": "2023-04-24T06:25:41.810Z"
   },
   {
    "duration": 143,
    "start_time": "2023-04-24T06:29:40.886Z"
   },
   {
    "duration": 7,
    "start_time": "2023-04-24T06:30:07.506Z"
   },
   {
    "duration": 6,
    "start_time": "2023-04-24T06:31:33.712Z"
   },
   {
    "duration": 6,
    "start_time": "2023-04-24T06:32:39.053Z"
   },
   {
    "duration": 27,
    "start_time": "2023-04-24T06:33:29.003Z"
   },
   {
    "duration": 4,
    "start_time": "2023-04-24T06:35:53.462Z"
   },
   {
    "duration": 23,
    "start_time": "2023-04-24T06:35:54.953Z"
   },
   {
    "duration": 3,
    "start_time": "2023-04-24T06:36:04.664Z"
   },
   {
    "duration": 18,
    "start_time": "2023-04-24T06:36:05.763Z"
   },
   {
    "duration": 5,
    "start_time": "2023-04-24T06:36:43.896Z"
   },
   {
    "duration": 24,
    "start_time": "2023-04-24T06:36:44.054Z"
   },
   {
    "duration": 8,
    "start_time": "2023-04-24T06:38:32.728Z"
   },
   {
    "duration": 20,
    "start_time": "2023-04-24T06:38:33.417Z"
   },
   {
    "duration": 7,
    "start_time": "2023-04-24T06:39:01.491Z"
   },
   {
    "duration": 12681,
    "start_time": "2023-04-24T06:39:01.827Z"
   },
   {
    "duration": 7,
    "start_time": "2023-04-24T06:39:57.731Z"
   },
   {
    "duration": 12167,
    "start_time": "2023-04-24T06:40:40.451Z"
   },
   {
    "duration": 12401,
    "start_time": "2023-04-24T06:40:52.621Z"
   },
   {
    "duration": 12241,
    "start_time": "2023-04-24T06:41:27.113Z"
   },
   {
    "duration": 12784,
    "start_time": "2023-04-24T06:41:57.855Z"
   },
   {
    "duration": 12707,
    "start_time": "2023-04-24T06:42:19.049Z"
   },
   {
    "duration": 12574,
    "start_time": "2023-04-24T06:42:31.758Z"
   },
   {
    "duration": 12395,
    "start_time": "2023-04-24T06:42:44.334Z"
   },
   {
    "duration": 96,
    "start_time": "2023-04-25T05:05:27.994Z"
   },
   {
    "duration": 0,
    "start_time": "2023-04-25T05:05:28.093Z"
   },
   {
    "duration": 0,
    "start_time": "2023-04-25T05:05:28.094Z"
   },
   {
    "duration": 0,
    "start_time": "2023-04-25T05:05:28.096Z"
   },
   {
    "duration": 0,
    "start_time": "2023-04-25T05:05:28.097Z"
   },
   {
    "duration": 0,
    "start_time": "2023-04-25T05:05:28.098Z"
   },
   {
    "duration": 0,
    "start_time": "2023-04-25T05:05:28.099Z"
   },
   {
    "duration": 0,
    "start_time": "2023-04-25T05:05:28.100Z"
   },
   {
    "duration": 0,
    "start_time": "2023-04-25T05:05:28.101Z"
   },
   {
    "duration": 1,
    "start_time": "2023-04-25T05:05:28.102Z"
   },
   {
    "duration": 0,
    "start_time": "2023-04-25T05:05:28.104Z"
   },
   {
    "duration": 0,
    "start_time": "2023-04-25T05:05:28.105Z"
   },
   {
    "duration": 0,
    "start_time": "2023-04-25T05:05:28.106Z"
   },
   {
    "duration": 0,
    "start_time": "2023-04-25T05:05:28.106Z"
   },
   {
    "duration": 79,
    "start_time": "2023-04-25T05:05:52.416Z"
   },
   {
    "duration": 3,
    "start_time": "2023-04-25T05:06:01.608Z"
   },
   {
    "duration": 16369,
    "start_time": "2023-04-25T05:06:05.124Z"
   },
   {
    "duration": 287,
    "start_time": "2023-04-25T05:06:21.496Z"
   },
   {
    "duration": 238,
    "start_time": "2023-04-25T05:06:21.785Z"
   },
   {
    "duration": 259,
    "start_time": "2023-04-25T05:06:22.025Z"
   },
   {
    "duration": 6,
    "start_time": "2023-04-25T05:06:22.286Z"
   },
   {
    "duration": 105,
    "start_time": "2023-04-25T05:06:22.294Z"
   },
   {
    "duration": 286,
    "start_time": "2023-04-25T05:06:22.402Z"
   },
   {
    "duration": 203,
    "start_time": "2023-04-25T05:06:22.690Z"
   },
   {
    "duration": 7,
    "start_time": "2023-04-25T05:06:22.895Z"
   },
   {
    "duration": 94,
    "start_time": "2023-04-25T05:06:22.909Z"
   },
   {
    "duration": 9,
    "start_time": "2023-04-25T05:06:23.004Z"
   },
   {
    "duration": 14,
    "start_time": "2023-04-25T05:06:23.015Z"
   },
   {
    "duration": 34,
    "start_time": "2023-04-25T05:06:23.031Z"
   },
   {
    "duration": 7,
    "start_time": "2023-04-25T05:06:23.067Z"
   },
   {
    "duration": 34,
    "start_time": "2023-04-25T05:06:23.075Z"
   },
   {
    "duration": 7,
    "start_time": "2023-04-25T05:06:28.769Z"
   },
   {
    "duration": 3674,
    "start_time": "2023-04-25T05:06:35.354Z"
   },
   {
    "duration": 7,
    "start_time": "2023-04-25T05:06:41.144Z"
   },
   {
    "duration": 1621,
    "start_time": "2023-04-25T05:06:43.083Z"
   },
   {
    "duration": 5,
    "start_time": "2023-04-25T05:07:00.103Z"
   },
   {
    "duration": 23,
    "start_time": "2023-04-25T05:07:00.617Z"
   },
   {
    "duration": 9,
    "start_time": "2023-04-25T05:07:01.045Z"
   },
   {
    "duration": 2162,
    "start_time": "2023-04-25T05:07:07.439Z"
   },
   {
    "duration": 4,
    "start_time": "2023-04-25T05:07:11.994Z"
   },
   {
    "duration": 64,
    "start_time": "2023-04-25T05:26:41.098Z"
   },
   {
    "duration": 50,
    "start_time": "2023-04-25T05:26:47.758Z"
   },
   {
    "duration": 7,
    "start_time": "2023-04-25T05:27:24.713Z"
   },
   {
    "duration": 69,
    "start_time": "2023-04-25T05:27:42.105Z"
   },
   {
    "duration": 0,
    "start_time": "2023-04-25T05:27:42.176Z"
   },
   {
    "duration": 0,
    "start_time": "2023-04-25T05:27:42.178Z"
   },
   {
    "duration": 0,
    "start_time": "2023-04-25T05:27:42.179Z"
   },
   {
    "duration": 0,
    "start_time": "2023-04-25T05:27:42.180Z"
   },
   {
    "duration": 0,
    "start_time": "2023-04-25T05:27:42.181Z"
   },
   {
    "duration": 0,
    "start_time": "2023-04-25T05:27:42.182Z"
   },
   {
    "duration": 0,
    "start_time": "2023-04-25T05:27:42.183Z"
   },
   {
    "duration": 0,
    "start_time": "2023-04-25T05:27:42.185Z"
   },
   {
    "duration": 0,
    "start_time": "2023-04-25T05:27:42.186Z"
   },
   {
    "duration": 0,
    "start_time": "2023-04-25T05:27:42.188Z"
   },
   {
    "duration": 0,
    "start_time": "2023-04-25T05:27:42.189Z"
   },
   {
    "duration": 0,
    "start_time": "2023-04-25T05:27:42.191Z"
   },
   {
    "duration": 0,
    "start_time": "2023-04-25T05:27:42.192Z"
   },
   {
    "duration": 0,
    "start_time": "2023-04-25T05:27:42.194Z"
   },
   {
    "duration": 0,
    "start_time": "2023-04-25T05:27:42.195Z"
   },
   {
    "duration": 0,
    "start_time": "2023-04-25T05:27:42.198Z"
   },
   {
    "duration": 0,
    "start_time": "2023-04-25T05:27:42.199Z"
   },
   {
    "duration": 45,
    "start_time": "2023-04-25T05:28:13.152Z"
   },
   {
    "duration": 53,
    "start_time": "2023-04-25T05:31:58.297Z"
   },
   {
    "duration": 1085,
    "start_time": "2023-04-25T05:32:04.922Z"
   },
   {
    "duration": 251,
    "start_time": "2023-04-25T05:32:06.009Z"
   },
   {
    "duration": 211,
    "start_time": "2023-04-25T05:32:06.261Z"
   },
   {
    "duration": 278,
    "start_time": "2023-04-25T05:32:06.473Z"
   },
   {
    "duration": 7,
    "start_time": "2023-04-25T05:32:06.754Z"
   },
   {
    "duration": 74,
    "start_time": "2023-04-25T05:32:06.763Z"
   },
   {
    "duration": 196,
    "start_time": "2023-04-25T05:32:06.840Z"
   },
   {
    "duration": 132,
    "start_time": "2023-04-25T05:32:07.038Z"
   },
   {
    "duration": 4,
    "start_time": "2023-04-25T05:32:07.233Z"
   },
   {
    "duration": 95,
    "start_time": "2023-04-25T05:32:07.240Z"
   },
   {
    "duration": 14,
    "start_time": "2023-04-25T05:32:07.337Z"
   },
   {
    "duration": 26,
    "start_time": "2023-04-25T05:32:07.352Z"
   },
   {
    "duration": 33,
    "start_time": "2023-04-25T05:32:07.379Z"
   },
   {
    "duration": 5,
    "start_time": "2023-04-25T05:32:07.415Z"
   },
   {
    "duration": 1170,
    "start_time": "2023-04-25T05:32:07.421Z"
   },
   {
    "duration": 1187,
    "start_time": "2023-04-25T05:32:08.593Z"
   },
   {
    "duration": 1419,
    "start_time": "2023-04-25T05:32:09.781Z"
   },
   {
    "duration": 7,
    "start_time": "2023-04-25T06:02:16.706Z"
   },
   {
    "duration": 1114,
    "start_time": "2023-04-25T06:02:21.226Z"
   },
   {
    "duration": 1043,
    "start_time": "2023-04-25T06:02:33.377Z"
   },
   {
    "duration": 1098,
    "start_time": "2023-04-25T06:02:35.540Z"
   },
   {
    "duration": 69,
    "start_time": "2023-04-25T06:07:32.727Z"
   },
   {
    "duration": 6,
    "start_time": "2023-04-25T06:07:38.838Z"
   },
   {
    "duration": 7,
    "start_time": "2023-04-25T06:09:01.749Z"
   },
   {
    "duration": 5,
    "start_time": "2023-04-25T06:09:33.056Z"
   },
   {
    "duration": 1289,
    "start_time": "2023-04-25T06:09:35.966Z"
   },
   {
    "duration": 0,
    "start_time": "2023-04-25T06:09:37.257Z"
   },
   {
    "duration": 1081,
    "start_time": "2023-04-25T06:09:37.292Z"
   },
   {
    "duration": 5,
    "start_time": "2023-04-25T06:10:44.316Z"
   },
   {
    "duration": 1423,
    "start_time": "2023-04-25T06:10:47.860Z"
   },
   {
    "duration": 0,
    "start_time": "2023-04-25T06:10:49.285Z"
   },
   {
    "duration": 0,
    "start_time": "2023-04-25T06:10:49.286Z"
   },
   {
    "duration": 3,
    "start_time": "2023-04-25T06:11:11.366Z"
   },
   {
    "duration": 20,
    "start_time": "2023-04-25T06:11:11.371Z"
   },
   {
    "duration": 5,
    "start_time": "2023-04-25T06:11:11.702Z"
   },
   {
    "duration": 1225,
    "start_time": "2023-04-25T06:11:15.850Z"
   },
   {
    "duration": 0,
    "start_time": "2023-04-25T06:11:17.077Z"
   },
   {
    "duration": 0,
    "start_time": "2023-04-25T06:11:17.078Z"
   },
   {
    "duration": 1183,
    "start_time": "2023-04-25T06:11:28.527Z"
   },
   {
    "duration": 1067,
    "start_time": "2023-04-25T06:11:29.994Z"
   },
   {
    "duration": 0,
    "start_time": "2023-04-25T06:11:31.062Z"
   },
   {
    "duration": 5,
    "start_time": "2023-04-25T06:11:40.486Z"
   },
   {
    "duration": 1019,
    "start_time": "2023-04-25T06:11:41.200Z"
   },
   {
    "duration": 1079,
    "start_time": "2023-04-25T06:11:42.222Z"
   },
   {
    "duration": 1069,
    "start_time": "2023-04-25T06:11:43.303Z"
   },
   {
    "duration": 5,
    "start_time": "2023-04-25T06:12:37.646Z"
   },
   {
    "duration": 1140,
    "start_time": "2023-04-25T06:12:39.786Z"
   },
   {
    "duration": 1115,
    "start_time": "2023-04-25T06:12:40.928Z"
   },
   {
    "duration": 1039,
    "start_time": "2023-04-25T06:12:42.053Z"
   },
   {
    "duration": 1217,
    "start_time": "2023-04-25T06:14:57.511Z"
   },
   {
    "duration": 1143,
    "start_time": "2023-04-25T06:14:58.730Z"
   },
   {
    "duration": 1212,
    "start_time": "2023-04-25T06:14:59.874Z"
   },
   {
    "duration": 74,
    "start_time": "2023-04-25T06:16:04.840Z"
   },
   {
    "duration": 146,
    "start_time": "2023-04-25T06:16:07.184Z"
   },
   {
    "duration": 60,
    "start_time": "2023-04-25T06:34:11.094Z"
   },
   {
    "duration": 55,
    "start_time": "2023-04-25T06:38:02.959Z"
   },
   {
    "duration": 1197,
    "start_time": "2023-04-26T08:13:34.638Z"
   },
   {
    "duration": 644,
    "start_time": "2023-04-26T08:13:35.838Z"
   },
   {
    "duration": 569,
    "start_time": "2023-04-26T08:13:36.485Z"
   },
   {
    "duration": 585,
    "start_time": "2023-04-26T08:13:37.057Z"
   },
   {
    "duration": 6,
    "start_time": "2023-04-26T08:13:37.644Z"
   },
   {
    "duration": 64,
    "start_time": "2023-04-26T08:13:37.652Z"
   },
   {
    "duration": 193,
    "start_time": "2023-04-26T08:13:37.795Z"
   },
   {
    "duration": 200,
    "start_time": "2023-04-26T08:13:37.991Z"
   },
   {
    "duration": 3,
    "start_time": "2023-04-26T08:13:38.195Z"
   },
   {
    "duration": 89,
    "start_time": "2023-04-26T08:13:38.202Z"
   },
   {
    "duration": 11,
    "start_time": "2023-04-26T08:13:38.293Z"
   },
   {
    "duration": 6,
    "start_time": "2023-04-26T08:13:38.306Z"
   },
   {
    "duration": 21,
    "start_time": "2023-04-26T08:13:38.313Z"
   },
   {
    "duration": 6,
    "start_time": "2023-04-26T08:13:38.336Z"
   },
   {
    "duration": 1984,
    "start_time": "2023-04-26T08:13:38.345Z"
   },
   {
    "duration": 2022,
    "start_time": "2023-04-26T08:13:40.331Z"
   },
   {
    "duration": 1903,
    "start_time": "2023-04-26T08:13:42.355Z"
   },
   {
    "duration": 4,
    "start_time": "2023-04-26T08:16:26.216Z"
   },
   {
    "duration": 16,
    "start_time": "2023-04-26T08:16:27.071Z"
   },
   {
    "duration": 6,
    "start_time": "2023-04-26T08:16:27.366Z"
   },
   {
    "duration": 1789,
    "start_time": "2023-04-26T08:16:28.864Z"
   },
   {
    "duration": 3,
    "start_time": "2023-04-26T08:17:18.346Z"
   },
   {
    "duration": 16,
    "start_time": "2023-04-26T08:17:19.179Z"
   },
   {
    "duration": 5,
    "start_time": "2023-04-26T08:17:19.485Z"
   },
   {
    "duration": 1840,
    "start_time": "2023-04-26T08:17:20.910Z"
   },
   {
    "duration": 3,
    "start_time": "2023-04-26T08:21:53.262Z"
   },
   {
    "duration": 115,
    "start_time": "2023-04-26T08:21:54.188Z"
   },
   {
    "duration": 4,
    "start_time": "2023-04-26T08:22:17.734Z"
   },
   {
    "duration": 16,
    "start_time": "2023-04-26T08:22:19.030Z"
   },
   {
    "duration": 7,
    "start_time": "2023-04-26T08:22:20.264Z"
   },
   {
    "duration": 1792,
    "start_time": "2023-04-26T08:22:21.500Z"
   },
   {
    "duration": 4,
    "start_time": "2023-04-26T08:22:46.315Z"
   },
   {
    "duration": 16,
    "start_time": "2023-04-26T08:22:47.170Z"
   },
   {
    "duration": 6,
    "start_time": "2023-04-26T08:22:48.175Z"
   },
   {
    "duration": 1967,
    "start_time": "2023-04-26T08:22:49.689Z"
   },
   {
    "duration": 1848,
    "start_time": "2023-04-26T08:22:55.570Z"
   },
   {
    "duration": 1751,
    "start_time": "2023-04-26T08:22:57.421Z"
   },
   {
    "duration": 74,
    "start_time": "2023-04-26T08:23:25.601Z"
   },
   {
    "duration": 6,
    "start_time": "2023-04-26T08:24:24.299Z"
   },
   {
    "duration": 1696,
    "start_time": "2023-04-26T08:24:25.076Z"
   },
   {
    "duration": 1799,
    "start_time": "2023-04-26T08:24:26.774Z"
   },
   {
    "duration": 1779,
    "start_time": "2023-04-26T08:24:28.575Z"
   },
   {
    "duration": 3,
    "start_time": "2023-04-26T08:24:38.685Z"
   },
   {
    "duration": 16,
    "start_time": "2023-04-26T08:24:39.648Z"
   },
   {
    "duration": 6,
    "start_time": "2023-04-26T08:24:39.935Z"
   },
   {
    "duration": 1262,
    "start_time": "2023-04-26T08:24:40.754Z"
   },
   {
    "duration": 1248,
    "start_time": "2023-04-26T08:24:42.018Z"
   },
   {
    "duration": 1217,
    "start_time": "2023-04-26T08:24:43.268Z"
   },
   {
    "duration": 1010,
    "start_time": "2023-04-27T05:42:04.726Z"
   },
   {
    "duration": 265,
    "start_time": "2023-04-27T05:42:05.738Z"
   },
   {
    "duration": 239,
    "start_time": "2023-04-27T05:42:06.005Z"
   },
   {
    "duration": 245,
    "start_time": "2023-04-27T05:42:06.246Z"
   },
   {
    "duration": 6,
    "start_time": "2023-04-27T05:42:06.493Z"
   },
   {
    "duration": 58,
    "start_time": "2023-04-27T05:42:06.501Z"
   },
   {
    "duration": 198,
    "start_time": "2023-04-27T05:42:06.638Z"
   },
   {
    "duration": 194,
    "start_time": "2023-04-27T05:42:06.840Z"
   },
   {
    "duration": 4,
    "start_time": "2023-04-27T05:42:07.037Z"
   },
   {
    "duration": 98,
    "start_time": "2023-04-27T05:42:07.044Z"
   },
   {
    "duration": 8,
    "start_time": "2023-04-27T05:42:07.143Z"
   },
   {
    "duration": 6,
    "start_time": "2023-04-27T05:42:07.153Z"
   },
   {
    "duration": 25,
    "start_time": "2023-04-27T05:42:07.161Z"
   },
   {
    "duration": 7,
    "start_time": "2023-04-27T05:42:07.189Z"
   },
   {
    "duration": 2190,
    "start_time": "2023-04-27T05:42:07.198Z"
   },
   {
    "duration": 2106,
    "start_time": "2023-04-27T05:42:09.390Z"
   },
   {
    "duration": 2173,
    "start_time": "2023-04-27T05:42:11.498Z"
   },
   {
    "duration": 2,
    "start_time": "2023-04-27T05:42:17.584Z"
   },
   {
    "duration": 2,
    "start_time": "2023-04-27T05:42:19.489Z"
   },
   {
    "duration": 2,
    "start_time": "2023-04-27T05:42:21.294Z"
   },
   {
    "duration": 5,
    "start_time": "2023-04-27T05:42:39.308Z"
   },
   {
    "duration": 9,
    "start_time": "2023-04-27T08:33:22.462Z"
   },
   {
    "duration": 1106,
    "start_time": "2023-04-27T08:33:30.032Z"
   },
   {
    "duration": 304,
    "start_time": "2023-04-27T08:33:31.140Z"
   },
   {
    "duration": 228,
    "start_time": "2023-04-27T08:33:31.446Z"
   },
   {
    "duration": 237,
    "start_time": "2023-04-27T08:33:31.676Z"
   },
   {
    "duration": 8,
    "start_time": "2023-04-27T08:33:31.917Z"
   },
   {
    "duration": 157,
    "start_time": "2023-04-27T08:33:31.927Z"
   },
   {
    "duration": 140,
    "start_time": "2023-04-27T08:33:32.087Z"
   },
   {
    "duration": 134,
    "start_time": "2023-04-27T08:33:32.285Z"
   },
   {
    "duration": 4,
    "start_time": "2023-04-27T08:33:32.485Z"
   },
   {
    "duration": 104,
    "start_time": "2023-04-27T08:33:32.491Z"
   },
   {
    "duration": 12,
    "start_time": "2023-04-27T08:33:32.597Z"
   },
   {
    "duration": 20,
    "start_time": "2023-04-27T08:33:32.611Z"
   },
   {
    "duration": 33,
    "start_time": "2023-04-27T08:33:32.633Z"
   },
   {
    "duration": 5,
    "start_time": "2023-04-27T08:33:32.669Z"
   },
   {
    "duration": 3139,
    "start_time": "2023-04-27T08:33:32.676Z"
   },
   {
    "duration": 3113,
    "start_time": "2023-04-27T08:33:35.817Z"
   },
   {
    "duration": 3381,
    "start_time": "2023-04-27T08:33:38.932Z"
   },
   {
    "duration": 3,
    "start_time": "2023-04-27T08:35:53.626Z"
   },
   {
    "duration": 2684,
    "start_time": "2023-04-27T08:35:56.676Z"
   },
   {
    "duration": 4,
    "start_time": "2023-04-27T08:36:35.430Z"
   },
   {
    "duration": 16,
    "start_time": "2023-04-27T08:36:38.996Z"
   },
   {
    "duration": 4,
    "start_time": "2023-04-27T08:37:07.676Z"
   },
   {
    "duration": 21,
    "start_time": "2023-04-27T08:37:10.728Z"
   },
   {
    "duration": 833,
    "start_time": "2023-04-27T08:38:30.075Z"
   },
   {
    "duration": 5,
    "start_time": "2023-04-27T08:38:44.882Z"
   },
   {
    "duration": 14,
    "start_time": "2023-04-27T08:38:49.694Z"
   },
   {
    "duration": 4,
    "start_time": "2023-04-27T08:41:59.168Z"
   },
   {
    "duration": 20,
    "start_time": "2023-04-27T08:42:02.155Z"
   },
   {
    "duration": 5,
    "start_time": "2023-04-27T08:42:34.039Z"
   },
   {
    "duration": 19,
    "start_time": "2023-04-27T08:42:37.447Z"
   },
   {
    "duration": 4,
    "start_time": "2023-04-27T08:43:38.060Z"
   },
   {
    "duration": 28,
    "start_time": "2023-04-27T08:43:42.178Z"
   },
   {
    "duration": 5,
    "start_time": "2023-04-27T08:43:48.916Z"
   },
   {
    "duration": 38,
    "start_time": "2023-04-27T08:43:55.065Z"
   },
   {
    "duration": 4,
    "start_time": "2023-04-27T08:44:24.980Z"
   },
   {
    "duration": 14,
    "start_time": "2023-04-27T08:44:29.578Z"
   },
   {
    "duration": 4,
    "start_time": "2023-04-27T08:44:49.380Z"
   },
   {
    "duration": 4,
    "start_time": "2023-04-27T08:45:30.184Z"
   },
   {
    "duration": 36,
    "start_time": "2023-04-27T08:45:34.501Z"
   },
   {
    "duration": 5,
    "start_time": "2023-04-27T08:46:19.017Z"
   },
   {
    "duration": 5,
    "start_time": "2023-04-27T08:46:22.918Z"
   },
   {
    "duration": 18,
    "start_time": "2023-04-27T08:46:26.492Z"
   },
   {
    "duration": 9,
    "start_time": "2023-04-27T08:47:20.866Z"
   },
   {
    "duration": 2409,
    "start_time": "2023-04-27T08:47:24.015Z"
   },
   {
    "duration": 6,
    "start_time": "2023-04-27T08:49:15.046Z"
   },
   {
    "duration": 18,
    "start_time": "2023-04-27T08:49:18.633Z"
   },
   {
    "duration": 2118,
    "start_time": "2023-04-27T08:49:24.547Z"
   },
   {
    "duration": 2352,
    "start_time": "2023-04-27T08:50:34.807Z"
   },
   {
    "duration": 5,
    "start_time": "2023-04-27T08:55:59.902Z"
   },
   {
    "duration": 6,
    "start_time": "2023-04-27T08:56:55.397Z"
   },
   {
    "duration": 27,
    "start_time": "2023-04-27T08:56:58.129Z"
   },
   {
    "duration": 6,
    "start_time": "2023-04-27T08:57:03.386Z"
   },
   {
    "duration": 2971,
    "start_time": "2023-04-27T08:57:08.024Z"
   },
   {
    "duration": 4,
    "start_time": "2023-04-27T08:57:24.530Z"
   },
   {
    "duration": 38,
    "start_time": "2023-04-27T08:57:27.714Z"
   },
   {
    "duration": 4,
    "start_time": "2023-04-27T09:03:17.858Z"
   },
   {
    "duration": 45,
    "start_time": "2023-04-27T09:03:21.303Z"
   },
   {
    "duration": 4,
    "start_time": "2023-04-27T09:04:13.428Z"
   },
   {
    "duration": 21,
    "start_time": "2023-04-27T09:04:16.313Z"
   },
   {
    "duration": 3,
    "start_time": "2023-04-27T09:04:50.231Z"
   },
   {
    "duration": 21,
    "start_time": "2023-04-27T09:04:53.623Z"
   },
   {
    "duration": 8,
    "start_time": "2023-04-27T09:04:59.691Z"
   },
   {
    "duration": 2165,
    "start_time": "2023-04-27T09:05:02.358Z"
   },
   {
    "duration": 4,
    "start_time": "2023-04-27T09:08:20.698Z"
   },
   {
    "duration": 24,
    "start_time": "2023-04-27T09:09:04.528Z"
   },
   {
    "duration": 6,
    "start_time": "2023-04-27T09:09:07.248Z"
   },
   {
    "duration": 2080,
    "start_time": "2023-04-27T09:09:08.310Z"
   },
   {
    "duration": 2134,
    "start_time": "2023-04-27T09:09:10.393Z"
   },
   {
    "duration": 2366,
    "start_time": "2023-04-27T09:09:12.529Z"
   },
   {
    "duration": 4,
    "start_time": "2023-04-27T09:09:22.062Z"
   },
   {
    "duration": 24,
    "start_time": "2023-04-27T09:09:25.356Z"
   },
   {
    "duration": 7,
    "start_time": "2023-04-27T09:09:29.067Z"
   },
   {
    "duration": 1500,
    "start_time": "2023-04-27T09:09:30.773Z"
   },
   {
    "duration": 1419,
    "start_time": "2023-04-27T09:09:32.275Z"
   },
   {
    "duration": 1516,
    "start_time": "2023-04-27T09:09:33.696Z"
   },
   {
    "duration": 1617,
    "start_time": "2023-04-27T09:09:54.359Z"
   },
   {
    "duration": 1477,
    "start_time": "2023-04-27T09:09:55.978Z"
   },
   {
    "duration": 1455,
    "start_time": "2023-04-27T09:09:57.458Z"
   }
  ],
  "kernelspec": {
   "display_name": "Python 3 (ipykernel)",
   "language": "python",
   "name": "python3"
  },
  "language_info": {
   "codemirror_mode": {
    "name": "ipython",
    "version": 3
   },
   "file_extension": ".py",
   "mimetype": "text/x-python",
   "name": "python",
   "nbconvert_exporter": "python",
   "pygments_lexer": "ipython3",
   "version": "3.9.5"
  },
  "toc": {
   "base_numbering": 1,
   "nav_menu": {},
   "number_sections": true,
   "sideBar": true,
   "skip_h1_title": true,
   "title_cell": "Table of Contents",
   "title_sidebar": "Contents",
   "toc_cell": false,
   "toc_position": {},
   "toc_section_display": true,
   "toc_window_display": false
  }
 },
 "nbformat": 4,
 "nbformat_minor": 2
}
